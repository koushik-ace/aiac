{
  "nbformat": 4,
  "nbformat_minor": 0,
  "metadata": {
    "colab": {
      "provenance": [],
      "authorship_tag": "ABX9TyPPrffYc/8GnVBE6N9Vy9LW",
      "include_colab_link": true
    },
    "kernelspec": {
      "name": "python3",
      "display_name": "Python 3"
    },
    "language_info": {
      "name": "python"
    }
  },
  "cells": [
    {
      "cell_type": "markdown",
      "metadata": {
        "id": "view-in-github",
        "colab_type": "text"
      },
      "source": [
        "<a href=\"https://colab.research.google.com/github/koushik-ace/aiac/blob/main/lab2.ipynb\" target=\"_parent\"><img src=\"https://colab.research.google.com/assets/colab-badge.svg\" alt=\"Open In Colab\"/></a>"
      ]
    },
    {
      "cell_type": "markdown",
      "source": [
        "# Task 1\n",
        "\n",
        "Description:\n",
        "\n",
        "● Use Google Gemini in Colab to write a Python function that reads\n",
        "a list of numbers and calculates the mean, minimum, and\n",
        "maximum values\n",
        "\n",
        "**Prompt**: write a Python function that reads\n",
        "a list of numbers and calculates the mean, minimum, and\n",
        "maximum values"
      ],
      "metadata": {
        "id": "9fx_MYNlW1Fd"
      }
    },
    {
      "cell_type": "code",
      "source": [
        "def analyze_numbers(numbers):\n",
        "  \"\"\"\n",
        "  Calculates the mean, minimum, and maximum of a list of numbers.\n",
        "\n",
        "  Args:\n",
        "    numbers: A list of numbers.\n",
        "\n",
        "  Returns:\n",
        "    A tuple containing the mean, minimum, and maximum values.\n",
        "    Returns (None, None, None) if the input list is empty.\n",
        "  \"\"\"\n",
        "  if not numbers:\n",
        "    return None, None, None\n",
        "\n",
        "  mean = sum(numbers) / len(numbers)\n",
        "  minimum = min(numbers)\n",
        "  maximum = max(numbers)\n",
        "\n",
        "  return mean, minimum, maximum\n",
        "\n",
        "# Example usage:\n",
        "my_list = [10, 20, 30, 40, 50]\n",
        "mean, min_val, max_val = analyze_numbers(my_list)\n",
        "\n",
        "print(f\"List: {my_list}\")\n",
        "print(f\"Mean: {mean}\")\n",
        "print(f\"Minimum: {min_val}\")\n",
        "print(f\"Maximum: {max_val}\")\n",
        "\n",
        "empty_list = []\n",
        "mean, min_val, max_val = analyze_numbers(empty_list)\n",
        "\n",
        "print(f\"\\nList: {empty_list}\")\n",
        "print(f\"Mean: {mean}\")\n",
        "print(f\"Minimum: {min_val}\")\n",
        "print(f\"Maximum: {max_val}\")"
      ],
      "metadata": {
        "colab": {
          "base_uri": "https://localhost:8080/"
        },
        "id": "OZeJB7FhVNbR",
        "outputId": "a208df34-c434-4d67-e27c-b81d5cd9c6d8"
      },
      "execution_count": null,
      "outputs": [
        {
          "output_type": "stream",
          "name": "stdout",
          "text": [
            "List: [10, 20, 30, 40, 50]\n",
            "Mean: 30.0\n",
            "Minimum: 10\n",
            "Maximum: 50\n",
            "\n",
            "List: []\n",
            "Mean: None\n",
            "Minimum: None\n",
            "Maximum: None\n"
          ]
        }
      ]
    },
    {
      "cell_type": "markdown",
      "source": [
        "This code defines a Python function called analyze_numbers that takes a list of numbers as input.\n",
        "\n",
        "Here's a breakdown of what the function does:\n",
        "\n",
        "Checks for an empty list: It first checks if the input list numbers is empty. If it is, it returns None for the mean, minimum, and maximum values.\n",
        "Calculates the mean: If the list is not empty, it calculates the mean by summing all the numbers in the list and dividing by the number of elements in the list.\n",
        "Finds the minimum and maximum: It then finds the minimum and maximum values in the list using the built-in min() and max() functions.\n",
        "Returns the results: Finally, it returns the calculated mean, minimum, and maximum values as a tuple.\n",
        "The code also includes example usage of the function with a sample list and an empty list, demonstrating how to call the function and print the results."
      ],
      "metadata": {
        "id": "qpGTlo-SWv5L"
      }
    },
    {
      "cell_type": "markdown",
      "source": [
        "# Task 2\n",
        "\n",
        "Description:\n",
        "\n",
        "● Compare Gemini and Copilot outputs for a Python function that\n",
        "checks whether a number is an Armstrong number. Document the\n",
        "steps, prompts, and outputs.\n",
        "\n",
        "**prompt**:Python function that\n",
        "checks whether a number is an Armstrong number and takes the input from user"
      ],
      "metadata": {
        "id": "qM9o4yowW8ch"
      }
    },
    {
      "cell_type": "code",
      "source": [
        "def is_armstrong_number(number):\n",
        "  \"\"\"\n",
        "  Checks if a number is an Armstrong number.\n",
        "\n",
        "  An Armstrong number (also known as a narcissistic number,\n",
        "  pluperfect digital invariant (PPDI), or Plus Perfect number)\n",
        "  in a given number base is a number that is the sum of its\n",
        "  own digits each raised to the power of the number of digits.\n",
        "\n",
        "  Args:\n",
        "    number: An integer.\n",
        "\n",
        "  Returns:\n",
        "    True if the number is an Armstrong number, False otherwise.\n",
        "  \"\"\"\n",
        "  # Convert the number to a string to get the number of digits\n",
        "  num_str = str(number)\n",
        "  num_digits = len(num_str)\n",
        "\n",
        "  # Calculate the sum of each digit raised to the power of the number of digits\n",
        "  armstrong_sum = 0\n",
        "  for digit in num_str:\n",
        "    armstrong_sum += int(digit) ** num_digits\n",
        "\n",
        "  # Check if the sum is equal to the original number\n",
        "  return armstrong_sum == number\n",
        "\n",
        "# Example usage with user input:\n",
        "user_input = input(\"Enter a number: \")\n",
        "try:\n",
        "  num = int(user_input)\n",
        "  print(f\"{num} is an Armstrong number: {is_armstrong_number(num)}\")\n",
        "except ValueError:\n",
        "  print(\"Invalid input. Please enter an integer.\")"
      ],
      "metadata": {
        "colab": {
          "base_uri": "https://localhost:8080/"
        },
        "id": "pdfChJkTW62l",
        "outputId": "d055f994-6f97-46d6-a1ff-3c9b311517d7"
      },
      "execution_count": null,
      "outputs": [
        {
          "output_type": "stream",
          "name": "stdout",
          "text": [
            "Enter a number: 234\n",
            "234 is an Armstrong number: False\n"
          ]
        }
      ]
    },
    {
      "cell_type": "markdown",
      "source": [
        "This code defines a Python function called is_armstrong_number that checks if a given integer is an Armstrong number.\n",
        "\n",
        "Here's a breakdown:\n",
        "\n",
        "Function Definition:\n",
        "def is_armstrong_number(number): defines a function that takes one argument, number.\n",
        "The docstring explains what an Armstrong number is and what the function does.\n",
        "Checking for Armstrong Number:\n",
        "num_str = str(number): Converts the input number into a string so you can easily access each digit.\n",
        "num_digits = len(num_str): Calculates the number of digits in the number.\n",
        "armstrong_sum = 0: Initializes a variable to store the sum of the digits raised to the power of the number of digits.\n",
        "for digit in num_str:: This loop iterates through each character (digit) in the num_str.\n",
        "armstrong_sum += int(digit) ** num_digits: Converts the current digit back to an integer and raises it to the power of num_digits, then adds it to armstrong_sum.\n",
        "return armstrong_sum == number: Compares the calculated armstrong_sum with the original number. If they are equal, the function returns True (it's an Armstrong number); otherwise, it returns False.\n",
        "Example Usage with User Input:\n",
        "user_input = input(\"Enter a number: \"): Prompts the user to enter a number and stores their input as a string in the user_input variable.\n",
        "try...except ValueError:: This block attempts to convert the user's input to an integer.\n",
        "num = int(user_input): Tries to convert the user_input string to an integer and stores it in the num variable.\n",
        "print(f\"{num} is an Armstrong number: {is_armstrong_number(num)}\"): If the conversion is successful, it calls the is_armstrong_number function with the entered number and prints the result.\n",
        "except ValueError: print(\"Invalid input. Please enter an integer.\"): If the conversion fails (e.g., the user enters text), it catches the ValueError and prints an error message."
      ],
      "metadata": {
        "id": "KEOrxqUlYrav"
      }
    },
    {
      "cell_type": "markdown",
      "source": [
        "**copilot**\n",
        "\n",
        "Prompt : Python function that checks whether a number is an Armstrong number and takes the input from user"
      ],
      "metadata": {
        "id": "iU_LIN_LbBC-"
      }
    },
    {
      "cell_type": "markdown",
      "source": [
        "![image.png](data:image/png;base64,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)"
      ],
      "metadata": {
        "id": "JbWkn_vNa0-G"
      }
    },
    {
      "cell_type": "markdown",
      "source": [
        "comparison\n",
        "\n",
        "gemini:\n",
        "\n",
        "\n",
        "1.   Uses a for-loop (functionally equivalent)\n",
        "2.   Uses try/except to handle invalid input\n",
        "\n",
        "copilot:\n",
        "\n",
        "\n",
        "1.   Uses a generator expression for sum\n",
        "2.   Directly converts input to int\n",
        "\n",
        "\n"
      ],
      "metadata": {
        "id": "B6mbY50aiZit"
      }
    },
    {
      "cell_type": "markdown",
      "source": [
        "# Task 3\n",
        "\n",
        "Description:\n",
        "\n",
        "● Ask Gemini to explain a Python function (e.g., is_prime(n) or\n",
        "is_palindrome(s)) line by line.\n",
        "\n",
        "● Choose either a prime-checking or palindrome-checking function\n",
        "and document the explanation provided by Gemini.\n",
        "\n",
        "**prompt**:Python function for is_prime(n) or is_palindrome(s) line by line that takes an input and prints output"
      ],
      "metadata": {
        "id": "B8w6WZEacCpZ"
      }
    },
    {
      "cell_type": "code",
      "source": [
        "def is_prime(n):\n",
        "  \"\"\"\n",
        "  Checks if a number is a prime number.\n",
        "\n",
        "  Args:\n",
        "    n: An integer.\n",
        "\n",
        "  Returns:\n",
        "    True if the number is prime, False otherwise.\n",
        "  \"\"\"\n",
        "  # Prime numbers are greater than 1\n",
        "  if n <= 1:\n",
        "    return False\n",
        "\n",
        "  # Check for factors from 2 up to the square root of n\n",
        "  # We only need to check up to the square root because if n has a factor\n",
        "  # greater than its square root, it must also have a factor less than its\n",
        "  # square root.\n",
        "  for i in range(2, int(n**0.5) + 1):\n",
        "    if n % i == 0:\n",
        "      return False  # Found a factor, so it's not prime\n",
        "\n",
        "  return True  # No factors found, so it's prime\n",
        "\n",
        "# Get input from the user\n",
        "user_input = input(\"Enter an integer: \")\n",
        "\n",
        "try:\n",
        "  num = int(user_input)\n",
        "  if is_prime(num):\n",
        "    print(f\"{num} is a prime number.\")\n",
        "  else:\n",
        "    print(f\"{num} is not a prime number.\")\n",
        "except ValueError:\n",
        "  print(\"Invalid input. Please enter an integer.\")"
      ],
      "metadata": {
        "id": "Y-LW4PIdZi91"
      },
      "execution_count": null,
      "outputs": []
    },
    {
      "cell_type": "markdown",
      "source": [
        "This code defines a Python function called is_prime(n) that checks if a given integer n is a prime number, and then takes user input to test the function.\n",
        "\n",
        "Here's a breakdown:\n",
        "\n",
        "Function Definition:\n",
        "def is_prime(n): defines the function is_prime that takes one argument n.\n",
        "The docstring explains that the function checks if a number is prime and clarifies the arguments and return value.\n",
        "Prime Number Check:\n",
        "if n <= 1:: Prime numbers must be greater than 1, so if n is 1 or less, it's immediately considered not prime and the function returns False.\n",
        "for i in range(2, int(n**0.5) + 1):: This loop iterates through possible factors starting from 2 up to the square root of n. We only need to check up to the square root because if a number has a factor greater than its square root, it must also have a factor smaller than its square root.\n",
        "if n % i == 0:: Inside the loop, it checks if n is divisible by the current number i without any remainder. If it is, i is a factor of n, meaning n is not prime, and the function returns False.\n",
        "return True: If the loop finishes without finding any factors, it means the number n is prime, and the function returns True.\n",
        "User Input and Output:\n",
        "user_input = input(\"Enter an integer: \"): This line prompts the user to enter an integer and stores the input as a string in the user_input variable.\n",
        "try...except ValueError:: This block is used for error handling. It attempts to convert the user's input to an integer.\n",
        "num = int(user_input): If the conversion is successful, the integer is stored in the num variable.\n",
        "if is_prime(num):: It then calls the is_prime function with the user's number. If the function returns True, it prints that the number is prime.\n",
        "else: print(f\"{num} is not a prime number.\"): If the function returns False, it prints that the number is not prime.\n",
        "except ValueError: print(\"Invalid input. Please enter an integer.\"): If the user's input cannot be converted to an integer (e.g., they entered text), a ValueError occurs, and this block catches it, printing an error message."
      ],
      "metadata": {
        "id": "GcW4dXugb_7F"
      }
    },
    {
      "cell_type": "markdown",
      "source": [
        "# Task 4\n",
        "\n",
        "Description :\n",
        "\n",
        "●  generate a Python\n",
        "function (e.g., sum of the first N natural numbers) and test its\n",
        "output.\n",
        "\n",
        "**Prompt**:write a python function that can do sum of the first N natural numbers that will take n as input and will give an output"
      ],
      "metadata": {
        "id": "2P2Nv2ZUcOgd"
      }
    },
    {
      "cell_type": "code",
      "source": [
        "def sum_of_first_n_natural_numbers(n):\n",
        "  \"\"\"\n",
        "  Calculates the sum of the first N natural numbers.\n",
        "\n",
        "  Args:\n",
        "    n: A non-negative integer.\n",
        "\n",
        "  Returns:\n",
        "    The sum of the first N natural numbers. Returns 0 if n is 0 or negative.\n",
        "  \"\"\"\n",
        "  if n < 0:\n",
        "    return 0\n",
        "  else:\n",
        "    return n * (n + 1) // 2\n",
        "\n",
        "# Get input from the user\n",
        "user_input = input(\"Enter a non-negative integer (N): \")\n",
        "\n",
        "try:\n",
        "  n = int(user_input)\n",
        "  result = sum_of_first_n_natural_numbers(n)\n",
        "  print(f\"The sum of the first {n} natural numbers is: {result}\")\n",
        "except ValueError:\n",
        "  print(\"Invalid input. Please enter a non-negative integer.\")"
      ],
      "metadata": {
        "colab": {
          "base_uri": "https://localhost:8080/"
        },
        "id": "wrVddsefcyRI",
        "outputId": "0240e922-e135-4013-b95f-b5a168012785"
      },
      "execution_count": null,
      "outputs": [
        {
          "output_type": "stream",
          "name": "stdout",
          "text": [
            "Enter a non-negative integer (N): 6\n",
            "The sum of the first 6 natural numbers is: 21\n"
          ]
        }
      ]
    },
    {
      "cell_type": "markdown",
      "source": [
        "This code defines a Python function called sum_of_first_n_natural_numbers(n) that calculates the sum of the first N natural numbers, and then takes user input to find the sum for a specific N.\n",
        "\n",
        "Here's a breakdown:\n",
        "\n",
        "Function Definition:\n",
        "def sum_of_first_n_natural_numbers(n): defines the function that takes one argument n, which represents the number of natural numbers to sum.\n",
        "The docstring explains what the function does, its arguments, and what it returns.\n",
        "Sum Calculation:\n",
        "if n < 0:: This checks if the input n is negative. Natural numbers are typically considered positive integers (1, 2, 3, ...), so if n is negative, the function returns 0.\n",
        "else: return n * (n + 1) // 2: If n is not negative, this line calculates the sum of the first n natural numbers using the formula n * (n + 1) / 2. The // 2 ensures integer division.\n",
        "User Input and Output:\n",
        "user_input = input(\"Enter a non-negative integer (N): \"): This line prompts the user to enter a non-negative integer and stores the input as a string in the user_input variable.\n",
        "try...except ValueError:: This block is used for error handling. It attempts to convert the user's input to an integer.\n",
        "n = int(user_input): If the conversion is successful, the integer is stored in the n variable.\n",
        "result = sum_of_first_n_natural_numbers(n): It then calls the sum_of_first_n_natural_numbers function with the user's number and stores the result in the result variable.\n",
        "print(f\"The sum of the first {n} natural numbers is: {result}\"): This line prints the calculated sum in a user-friendly format.\n",
        "except ValueError: print(\"Invalid input. Please enter a non-negative integer.\"): If the user's input cannot be converted to an integer (e.g., they entered text), a ValueError occurs, and this block catches it, printing an error message."
      ],
      "metadata": {
        "id": "4l-jjtlwdGku"
      }
    },
    {
      "cell_type": "markdown",
      "source": [
        "# Task 5\n",
        "\n",
        "Description:\n",
        "\n",
        "● Students need to write a Python program to calculate the sum of\n",
        "odd numbers and even numbers in a given tuple.\n",
        "\n",
        "● Refactor the code to improve logic and readability\n",
        "\n",
        "**Prompt**:write a python program to give the sum of odd and even numbers in an given tuple"
      ],
      "metadata": {
        "id": "VcoGE2nwdKlL"
      }
    },
    {
      "cell_type": "code",
      "source": [
        "def sum_odd_even(numbers):\n",
        "  \"\"\"\n",
        "  Calculates the sum of odd and even numbers in a tuple.\n",
        "\n",
        "  Args:\n",
        "    numbers: A tuple of numbers.\n",
        "\n",
        "  Returns:\n",
        "    A tuple containing the sum of odd numbers and the sum of even numbers.\n",
        "  \"\"\"\n",
        "  sum_even = 0\n",
        "  sum_odd = 0\n",
        "  for number in numbers:\n",
        "    if number % 2 == 0:\n",
        "      sum_even += number\n",
        "    else:\n",
        "      sum_odd += number\n",
        "  return sum_odd, sum_even\n",
        "\n",
        "# Example usage:\n",
        "my_tuple = (1, 2, 3, 4, 5, 6, 7, 8, 9, 10)\n",
        "odd_sum, even_sum = sum_odd_even(my_tuple)\n",
        "\n",
        "print(f\"Tuple: {my_tuple}\")\n",
        "print(f\"Sum of odd numbers: {odd_sum}\")\n",
        "print(f\"Sum of even numbers: {even_sum}\")\n",
        "\n",
        "empty_tuple = ()\n",
        "odd_sum, even_sum = sum_odd_even(empty_tuple)\n",
        "\n",
        "print(f\"\\nTuple: {empty_tuple}\")\n",
        "print(f\"Sum of odd numbers: {odd_sum}\")\n",
        "print(f\"Sum of even numbers: {even_sum}\")"
      ],
      "metadata": {
        "colab": {
          "base_uri": "https://localhost:8080/"
        },
        "id": "TTicQzKtdJCu",
        "outputId": "ce7071ab-aaaa-40b1-f923-4430b732c922"
      },
      "execution_count": null,
      "outputs": [
        {
          "output_type": "stream",
          "name": "stdout",
          "text": [
            "Tuple: (1, 2, 3, 4, 5, 6, 7, 8, 9, 10)\n",
            "Sum of odd numbers: 25\n",
            "Sum of even numbers: 30\n",
            "\n",
            "Tuple: ()\n",
            "Sum of odd numbers: 0\n",
            "Sum of even numbers: 0\n"
          ]
        }
      ]
    },
    {
      "cell_type": "markdown",
      "source": [
        "This code defines a Python function called sum_odd_even that calculates the sum of odd and even numbers in a given tuple.\n",
        "\n",
        "Here's a breakdown:\n",
        "\n",
        "Function Definition:\n",
        "def sum_odd_even(numbers): defines the function that takes one argument, numbers, which is expected to be a tuple.\n",
        "The docstring explains what the function does, its arguments, and what it returns (a tuple containing the sum of odd and even numbers).\n",
        "Initialization:\n",
        "sum_even = 0 and sum_odd = 0: These lines initialize two variables to store the running sums of even and odd numbers, respectively. They are set to 0 initially.\n",
        "Iterating through the tuple:\n",
        "for number in numbers:: This loop iterates through each element (number) in the input numbers tuple.\n",
        "Checking for odd or even:\n",
        "if number % 2 == 0:: Inside the loop, this condition checks if the current number is even. The modulo operator (%) returns the remainder of a division. If a number divided by 2 has a remainder of 0, it's even.\n",
        "sum_even += number: If the number is even, it's added to the sum_even variable.\n",
        "else:: If the condition in the if statement is false (meaning the number is not even), the code in the else block is executed.\n",
        "sum_odd += number: If the number is odd, it's added to the sum_odd variable.\n",
        "Returning the results:\n",
        "return sum_odd, sum_even: After the loop finishes iterating through all the numbers in the tuple, the function returns a tuple containing the final sum_odd and sum_even.\n",
        "Example Usage:\n",
        "The code then demonstrates how to use the sum_odd_even function with a sample tuple my_tuple and an empty tuple empty_tuple.\n",
        "It calls the function, unpacks the returned tuple into odd_sum and even_sum variables, and prints the results in a user-friendly format using f-strings."
      ],
      "metadata": {
        "id": "EspT1hKqenqk"
      }
    }
  ]
}